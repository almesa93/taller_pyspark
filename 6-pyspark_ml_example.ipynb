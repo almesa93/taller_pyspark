{
 "cells": [
  {
   "cell_type": "markdown",
   "id": "16da6c54",
   "metadata": {},
   "source": [
    "### Examples Of Pyspark ML"
   ]
  },
  {
   "cell_type": "markdown",
   "id": "a1ea9080",
   "metadata": {},
   "source": [
    "#### INICIAMOS SESION"
   ]
  },
  {
   "cell_type": "code",
   "execution_count": null,
   "id": "303fe4d4",
   "metadata": {},
   "outputs": [],
   "source": [
    "from pyspark.sql import SparkSession\n",
    "spark = SparkSession.builder.appName('dataframe').getOrCreate()"
   ]
  },
  {
   "cell_type": "code",
   "execution_count": null,
   "id": "d169bafa",
   "metadata": {},
   "outputs": [],
   "source": [
    "spark"
   ]
  },
  {
   "cell_type": "markdown",
   "id": "adcb937a",
   "metadata": {},
   "source": [
    "CARGAMOS CSV"
   ]
  },
  {
   "cell_type": "markdown",
   "id": "c3787852",
   "metadata": {},
   "source": [
    "training = spark.read.csv('data/test1.csv', header=True, inferSchema=True)"
   ]
  },
  {
   "cell_type": "code",
   "execution_count": null,
   "id": "067ae507",
   "metadata": {},
   "outputs": [],
   "source": [
    "training.show()"
   ]
  },
  {
   "cell_type": "markdown",
   "id": "f0cca85d",
   "metadata": {},
   "source": [
    "En PySpark se trabaja de forma diferente. Tendremos que agrupar nuestras variables independientes de forma que queden todas en una columna y dentro de una lista, por lo que crearemos un vector de ensamblaje o \"vector assembler\", de tal modo que queden así esas variables independientes:\n",
    "- [Age, Experience]\n",
    "\n",
    "Lo que haremos con estas dos, será tratarlas como una nueva variable independiente:\n",
    "- [Age, Experience] ----> nueva_variable_independiente"
   ]
  },
  {
   "cell_type": "code",
   "execution_count": null,
   "id": "c0acbafa",
   "metadata": {},
   "outputs": [],
   "source": [
    "from pyspark.ml.feature import VectorAssembler "
   ]
  },
  {
   "cell_type": "code",
   "execution_count": null,
   "id": "5c6b5e23",
   "metadata": {},
   "outputs": [],
   "source": [
    "feature_assembler = VectorAssembler(inputCols=['age', 'Experience'], outputCol='Independent features') # 1:46:27 del vídeo"
   ]
  },
  {
   "cell_type": "code",
   "execution_count": null,
   "id": "613ce56a",
   "metadata": {},
   "outputs": [],
   "source": [
    "output = feature_assembler.transform(training)"
   ]
  },
  {
   "cell_type": "markdown",
   "id": "e33b6c83",
   "metadata": {},
   "source": [
    "Veremos que se crea una nueva columna cuyos valores se corresponden a unos array con el contenido de aquellas variables independientes que hemos agrupado. Esto será nuestro input feature o lo que solíamos definir como train."
   ]
  },
  {
   "cell_type": "code",
   "execution_count": null,
   "id": "bd4f7737",
   "metadata": {},
   "outputs": [],
   "source": [
    "output.show()"
   ]
  },
  {
   "cell_type": "markdown",
   "id": "0a3e423c",
   "metadata": {},
   "source": [
    "Seleccionamos las columnas que nos interesan para nuestro modelo: el train (Independent Features) y el test (Salary)"
   ]
  },
  {
   "cell_type": "code",
   "execution_count": null,
   "id": "2a20a95f",
   "metadata": {},
   "outputs": [],
   "source": [
    "finalized_data = output.select('Independent features', 'Salary')\n",
    "finalized_data.show()"
   ]
  },
  {
   "cell_type": "markdown",
   "id": "42ac525f",
   "metadata": {},
   "source": [
    "A continuación, entrenaremos un modelo de regresión lineal."
   ]
  },
  {
   "cell_type": "code",
   "execution_count": null,
   "id": "18f3867d",
   "metadata": {},
   "outputs": [],
   "source": [
    "from pyspark.ml.regression import LinearRegression"
   ]
  },
  {
   "cell_type": "code",
   "execution_count": null,
   "id": "73e6554e",
   "metadata": {},
   "outputs": [],
   "source": [
    "train, test = finalized_data.randomSplit([0.75, 0.25])\n",
    "regressor = LinearRegression(featuresCol='Independent features', labelCol='Salary')\n",
    "regressor = regressor.fit(train)"
   ]
  },
  {
   "cell_type": "code",
   "execution_count": null,
   "id": "60b0e7ee",
   "metadata": {},
   "outputs": [],
   "source": [
    "regressor.coefficients"
   ]
  },
  {
   "cell_type": "code",
   "execution_count": null,
   "id": "9b1f2bb2",
   "metadata": {},
   "outputs": [],
   "source": [
    "regressor.intercept"
   ]
  },
  {
   "cell_type": "code",
   "execution_count": null,
   "id": "e3dcd8fa",
   "metadata": {},
   "outputs": [],
   "source": [
    "prediction = regressor.evaluate(test)"
   ]
  },
  {
   "cell_type": "code",
   "execution_count": null,
   "id": "30861e4b",
   "metadata": {},
   "outputs": [],
   "source": [
    "prediction.predictions.show()"
   ]
  },
  {
   "cell_type": "code",
   "execution_count": null,
   "id": "96cee169",
   "metadata": {},
   "outputs": [],
   "source": [
    "# Errores\n",
    "\n",
    "prediction.meanAbsoluteError, prediction.meanSquaredError"
   ]
  },
  {
   "cell_type": "code",
   "execution_count": null,
   "id": "589b8a68",
   "metadata": {},
   "outputs": [],
   "source": []
  }
 ],
 "metadata": {
  "kernelspec": {
   "display_name": "Python 3",
   "language": "python",
   "name": "python3"
  },
  "language_info": {
   "codemirror_mode": {
    "name": "ipython",
    "version": 3
   },
   "file_extension": ".py",
   "mimetype": "text/x-python",
   "name": "python",
   "nbconvert_exporter": "python",
   "pygments_lexer": "ipython3",
   "version": "3.8.10"
  }
 },
 "nbformat": 4,
 "nbformat_minor": 5
}

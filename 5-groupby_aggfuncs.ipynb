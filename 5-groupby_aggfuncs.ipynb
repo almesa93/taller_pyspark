{
 "cells": [
  {
   "cell_type": "markdown",
   "id": "2efa0fce",
   "metadata": {},
   "source": [
    "### Pyspark GroupBy And Aggregate Functions"
   ]
  },
  {
   "cell_type": "markdown",
   "id": "2b9c2038",
   "metadata": {},
   "source": [
    "#### INICIAMOS LA SESIÓN"
   ]
  },
  {
   "cell_type": "code",
   "execution_count": null,
   "id": "6a8f166e",
   "metadata": {},
   "outputs": [],
   "source": [
    "from pyspark.sql import SparkSession\n",
    "spark = SparkSession.builder.appName('dataframe').getOrCreate()"
   ]
  },
  {
   "cell_type": "code",
   "execution_count": null,
   "id": "aa06a829",
   "metadata": {},
   "outputs": [],
   "source": [
    "spark"
   ]
  },
  {
   "cell_type": "markdown",
   "id": "77ed4d2f",
   "metadata": {},
   "source": [
    "#### GROUPBY Y AGGREGATE"
   ]
  },
  {
   "cell_type": "code",
   "execution_count": null,
   "id": "9064d812",
   "metadata": {},
   "outputs": [],
   "source": [
    "df_pyspark = spark.read.csv('data/test3.csv', header=True, inferSchema=True)\n",
    "df_pyspark.show()"
   ]
  },
  {
   "cell_type": "code",
   "execution_count": null,
   "id": "d8217134",
   "metadata": {},
   "outputs": [],
   "source": [
    "df_pyspark.printSchema()"
   ]
  },
  {
   "cell_type": "markdown",
   "id": "069d4002",
   "metadata": {},
   "source": [
    "GROUPBY"
   ]
  },
  {
   "cell_type": "code",
   "execution_count": null,
   "id": "049dd05a",
   "metadata": {},
   "outputs": [],
   "source": [
    "# Por nombre y suma de salarios de cada persona\n",
    "\n",
    "df_pyspark.groupBy('Name').sum().show()"
   ]
  },
  {
   "cell_type": "code",
   "execution_count": null,
   "id": "105d0a99",
   "metadata": {},
   "outputs": [],
   "source": [
    "df_pyspark.groupBy('Name').max().show()"
   ]
  },
  {
   "cell_type": "code",
   "execution_count": null,
   "id": "0407bea4",
   "metadata": {},
   "outputs": [],
   "source": [
    "df_pyspark.groupBy('Name').min().show()"
   ]
  },
  {
   "cell_type": "code",
   "execution_count": null,
   "id": "f34b7168",
   "metadata": {},
   "outputs": [],
   "source": [
    "# Por departamentos y suma de salarios\n",
    "\n",
    "df_pyspark.groupBy('Departments').sum().show()"
   ]
  },
  {
   "cell_type": "code",
   "execution_count": null,
   "id": "180e8eee",
   "metadata": {},
   "outputs": [],
   "source": [
    "# Por departamento y salario medio\n",
    "\n",
    "df_pyspark.groupBy('Departments').mean().show()"
   ]
  },
  {
   "cell_type": "code",
   "execution_count": null,
   "id": "6d33d713",
   "metadata": {},
   "outputs": [],
   "source": [
    "# Para contar el número de empleados por departamento\n",
    "\n",
    "df_pyspark.groupBy('Departments').count().show()"
   ]
  },
  {
   "cell_type": "markdown",
   "id": "1e54ac41",
   "metadata": {},
   "source": [
    "AGGREGATE"
   ]
  },
  {
   "cell_type": "code",
   "execution_count": null,
   "id": "7687158e",
   "metadata": {},
   "outputs": [],
   "source": [
    "df_pyspark.agg({'Salary':'sum'}).show()"
   ]
  }
 ],
 "metadata": {
  "kernelspec": {
   "display_name": "Python 3",
   "language": "python",
   "name": "python3"
  },
  "language_info": {
   "codemirror_mode": {
    "name": "ipython",
    "version": 3
   },
   "file_extension": ".py",
   "mimetype": "text/x-python",
   "name": "python",
   "nbconvert_exporter": "python",
   "pygments_lexer": "ipython3",
   "version": "3.7.10"
  }
 },
 "nbformat": 4,
 "nbformat_minor": 5
}
